{
 "cells": [
  {
   "cell_type": "code",
   "execution_count": 93,
   "metadata": {},
   "outputs": [
    {
     "name": "stdout",
     "output_type": "stream",
     "text": [
      "The autoreload extension is already loaded. To reload it, use:\n",
      "  %reload_ext autoreload\n"
     ]
    }
   ],
   "source": [
    "%load_ext autoreload\n",
    "\n",
    "%autoreload 2\n",
    "\n",
    "from recognizer import view, phraseRecognizer"
   ]
  },
  {
   "cell_type": "code",
   "execution_count": 94,
   "metadata": {},
   "outputs": [
    {
     "name": "stdout",
     "output_type": "stream",
     "text": [
      "{'CARDINAL': 'Numerals that do not fall under another type.',\n",
      " 'DATE': 'Absolute or relative dates or periods.',\n",
      " 'EVENT': 'Named hurricanes, battles, wars, sports events, etc.',\n",
      " 'FACILITY': 'Buildings, airports, highways, bridges, etc.',\n",
      " 'GPE': 'Countries, cities, states.',\n",
      " 'LANGUAGE': 'Any named language.',\n",
      " 'LAW': 'Named documents made into laws.',\n",
      " 'LOC': 'Non-GPE locations, mountain ranges, bodies of water.',\n",
      " 'MONEY': 'Monetary values, including unit.',\n",
      " 'NORP': 'Nationalities or religious or political groups.',\n",
      " 'ORDINAL': 'first, second, etc.',\n",
      " 'ORG': 'Companies, agencies, institutions, etc.',\n",
      " 'PERCENT': 'Percentage, including \"%\".',\n",
      " 'PERSON': 'People, including fictional.',\n",
      " 'PRODUCT': 'Objects, vehicles, foods, etc. (Not services.)',\n",
      " 'QUANTITY': 'Measurements, as of weight or distance.',\n",
      " 'TIME': 'Times smaller than a day.',\n",
      " 'WORK_OF_ART': 'Titles of books, songs, etc.'}\n"
     ]
    }
   ],
   "source": [
    "view()"
   ]
  },
  {
   "cell_type": "code",
   "execution_count": 95,
   "metadata": {},
   "outputs": [],
   "source": [
    "naruto = ['Naruto','Konoha','Sasuke','Sakura','Kakashi','Orochimaru','Hokage','Land of Fire']"
   ]
  },
  {
   "cell_type": "code",
   "execution_count": 105,
   "metadata": {},
   "outputs": [],
   "source": [
    "pr = phraseRecognizer(naruto, mylabel='ANIME')"
   ]
  },
  {
   "cell_type": "code",
   "execution_count": 106,
   "metadata": {},
   "outputs": [],
   "source": [
    "sample = \"\"\"A powerful fox known as the Nine-Tails attacks Konoha, the hidden leaf village in the Land of Fire, one of the Five Great Shinobi Countries in the Ninja World. In response, the leader of Konoha, the Fourth Hokage, seals the fox inside the body of his newborn son, Naruto Uzumaki, making Naruto a host of the beast;[d] this costs Naruto's father his life, and the Third Hokage returns from retirement to become leader of Konoha again. Naruto is often ridiculed by the Konoha villagers for being the host of the Nine-Tails. Because of a decree made by the Third Hokage forbidding anyone to mention these events, Naruto knows nothing about the Nine-Tails until 12 years later, when Mizuki, a renegade ninja, reveals the truth to Naruto. Naruto then defeats Mizuki in combat, earning the respect of his teacher Iruka Umino.[e]\n",
    "\n",
    "Shortly afterwards, Naruto becomes a ninja and joins with Sasuke Uchiha, against whom he often competes, and Sakura Haruno, on whom he has a crush, to form Team 7, under an experienced sensei, the elite ninja Kakashi Hatake. Like all the ninja teams from every village, Team 7 completes missions requested by the villagers, ranging from doing chores and being bodyguards to performing assassinations.\n",
    "\n",
    "After several missions, including a major one in the Land of Waves, Kakashi allows Team 7 to take a ninja exam, enabling them to advance to a higher rank and take on more difficult missions, known as Chunin Exams . During the exams, Orochimaru, a wanted criminal, invades Konoha and kills the Third Hokage for revenge. Jiraiya, one of the three legendary ninjas, declines the title of Fifth Hokage and searches with Naruto for Tsunade whom he chooses to become Fifth Hokage instead.\n",
    "\n",
    "During the search, it is revealed that Orochimaru wishes to train Sasuke because of his powerful genetic heritage, the Sharingan.[f] After Sasuke attempts and fails to kill his older brother Itachi[g] when he showed up in Konoha to kidnap Naruto, he joins Orochimaru, hoping to gain from him the strength needed to kill Itachi. The story takes a turn when Sasuke leaves the Konoha village and when Tsunade finds out, she sends a group of ninja, including Naruto, to retrieve Sasuke, but Naruto is unable to persuade or force him to come back. Naruto and Sakura do not give up on Sasuke: Naruto leaves Konoha to receive training from Jiraiya to prepare himself for the next time he encounters Sasuke, while Sakura becomes Tsunade's apprentice.\"\"\""
   ]
  },
  {
   "cell_type": "code",
   "execution_count": 107,
   "metadata": {},
   "outputs": [
    {
     "data": {
      "text/plain": [
       "'Konoha, Land of Fire, Konoha, Hokage, Naruto, Naruto, Naruto, Hokage, Konoha, Naruto, Konoha, Hokage, Naruto, Naruto, Naruto, Naruto, Sasuke, Sakura, Kakashi, Kakashi, Orochimaru, Konoha, Hokage, Hokage, Naruto, Hokage, Orochimaru, Sasuke, Sasuke, Konoha, Naruto, Orochimaru, Sasuke, Konoha, Naruto, Sasuke, Naruto, Naruto, Sakura, Sasuke, Naruto, Konoha, Sasuke, Sakura'"
      ]
     },
     "execution_count": 107,
     "metadata": {},
     "output_type": "execute_result"
    }
   ],
   "source": [
    "pr.termMatcher(sample)"
   ]
  },
  {
   "cell_type": "code",
   "execution_count": 108,
   "metadata": {},
   "outputs": [
    {
     "data": {
      "text/plain": [
       "[('Konoha', 'ANIME'),\n",
       " ('Land of Fire', 'ANIME'),\n",
       " ('Konoha', 'ANIME'),\n",
       " ('Hokage', 'ANIME'),\n",
       " ('Naruto', 'ANIME'),\n",
       " ('Naruto', 'ANIME'),\n",
       " ('Naruto', 'ANIME'),\n",
       " ('Hokage', 'ANIME'),\n",
       " ('Konoha', 'ANIME'),\n",
       " ('Naruto', 'ANIME'),\n",
       " ('Konoha', 'ANIME'),\n",
       " ('Hokage', 'ANIME'),\n",
       " ('Naruto', 'ANIME'),\n",
       " ('Naruto', 'ANIME'),\n",
       " ('Naruto', 'ANIME'),\n",
       " ('Naruto', 'ANIME'),\n",
       " ('Sasuke', 'ANIME'),\n",
       " ('Sakura', 'ANIME'),\n",
       " ('Kakashi', 'ANIME'),\n",
       " ('Kakashi', 'ANIME'),\n",
       " ('Orochimaru', 'ANIME'),\n",
       " ('Konoha', 'ANIME'),\n",
       " ('Hokage', 'ANIME'),\n",
       " ('Hokage', 'ANIME'),\n",
       " ('Naruto', 'ANIME'),\n",
       " ('Hokage', 'ANIME'),\n",
       " ('Orochimaru', 'ANIME'),\n",
       " ('Sasuke', 'ANIME'),\n",
       " ('Sasuke', 'ANIME'),\n",
       " ('Konoha', 'ANIME'),\n",
       " ('Naruto', 'ANIME'),\n",
       " ('Orochimaru', 'ANIME'),\n",
       " ('Sasuke', 'ANIME'),\n",
       " ('Konoha', 'ANIME'),\n",
       " ('Naruto', 'ANIME'),\n",
       " ('Sasuke', 'ANIME'),\n",
       " ('Naruto', 'ANIME'),\n",
       " ('Naruto', 'ANIME'),\n",
       " ('Sakura', 'ANIME'),\n",
       " ('Sasuke', 'ANIME'),\n",
       " ('Naruto', 'ANIME'),\n",
       " ('Konoha', 'ANIME'),\n",
       " ('Sasuke', 'ANIME'),\n",
       " ('Sakura', 'ANIME')]"
      ]
     },
     "execution_count": 108,
     "metadata": {},
     "output_type": "execute_result"
    }
   ],
   "source": [
    "pr.spanMatcher(sample)"
   ]
  },
  {
   "cell_type": "code",
   "execution_count": 109,
   "metadata": {},
   "outputs": [],
   "source": [
    "sample2 = [\"Where does Kakashi live in the Land of Fire?\",\n",
    "           \"When is Naruto leaving?\",\n",
    "           \"Sasuke is pretty annoying\",\n",
    "           \"Did Orochimaru defeat the Hokage?\"]\n",
    "           "
   ]
  },
  {
   "cell_type": "code",
   "execution_count": 110,
   "metadata": {},
   "outputs": [
    {
     "data": {
      "text/plain": [
       "[[('Kakashi', 'ANIME'), ('Land of Fire', 'ANIME')],\n",
       " [('Naruto', 'ANIME')],\n",
       " [('Sasuke', 'ANIME')],\n",
       " [('Orochimaru', 'ANIME'), ('Hokage', 'ANIME')]]"
      ]
     },
     "execution_count": 110,
     "metadata": {},
     "output_type": "execute_result"
    }
   ],
   "source": [
    "[pr.spanMatcher(b) for b in sample2]"
   ]
  },
  {
   "cell_type": "code",
   "execution_count": 101,
   "metadata": {},
   "outputs": [],
   "source": [
    "sample3 = 'Will Kakashi use his Sharingan?'"
   ]
  },
  {
   "cell_type": "code",
   "execution_count": 102,
   "metadata": {},
   "outputs": [
    {
     "data": {
      "text/plain": [
       "'Kakashi'"
      ]
     },
     "execution_count": 102,
     "metadata": {},
     "output_type": "execute_result"
    }
   ],
   "source": [
    "pr.termMatcher(sample3)"
   ]
  },
  {
   "cell_type": "code",
   "execution_count": 104,
   "metadata": {},
   "outputs": [
    {
     "data": {
      "text/plain": [
       "[('Kakashi', 'PERSON')]"
      ]
     },
     "execution_count": 104,
     "metadata": {},
     "output_type": "execute_result"
    }
   ],
   "source": [
    "pr.spanMatcher(sample3)"
   ]
  }
 ],
 "metadata": {
  "kernelspec": {
   "display_name": "Python 3",
   "language": "python",
   "name": "python3"
  },
  "language_info": {
   "codemirror_mode": {
    "name": "ipython",
    "version": 3
   },
   "file_extension": ".py",
   "mimetype": "text/x-python",
   "name": "python",
   "nbconvert_exporter": "python",
   "pygments_lexer": "ipython3",
   "version": "3.6.3"
  }
 },
 "nbformat": 4,
 "nbformat_minor": 2
}
